{
 "cells": [
  {
   "cell_type": "markdown",
   "id": "88885453-c209-4faa-84b8-07379d168f55",
   "metadata": {},
   "source": [
    "<h1>Петров Платон Дмитриевич</h1>\n",
    "<h1>Вариант 13</h1>"
   ]
  },
  {
   "cell_type": "markdown",
   "id": "512c66a8-4731-493d-988a-7091d83bd442",
   "metadata": {},
   "source": [
    "---"
   ]
  },
  {
   "cell_type": "markdown",
   "id": "f127ddc7-c4b6-48c3-b2b9-a610963bdcd3",
   "metadata": {},
   "source": [
    "<h2>Цель работы</h2>"
   ]
  },
  {
   "cell_type": "markdown",
   "id": "6c3cf0f5-1341-4400-b2a8-167a74bc040c",
   "metadata": {},
   "source": [
    "Изучение структуры данных «линейные однонаправленные списки», а также основных операций над ними."
   ]
  },
  {
   "cell_type": "markdown",
   "id": "1756a4ea-c2c4-4391-b5ca-52c21fae809b",
   "metadata": {},
   "source": [
    "---\n"
   ]
  },
  {
   "cell_type": "markdown",
   "id": "e8cc9df2-680f-42ab-834d-358c7617fa56",
   "metadata": {},
   "source": [
    "<h2>Общее задание</h2>"
   ]
  },
  {
   "cell_type": "markdown",
   "id": "a0331409-cd62-4da2-94e5-cbb838ccc767",
   "metadata": {},
   "source": [
    "<h3>Определение вспомогательного класса Node и SimpleLinkedList</h3>"
   ]
  },
  {
   "cell_type": "code",
   "execution_count": null,
   "id": "c4637b98-9f6b-4523-ad00-ee085deff3ee",
   "metadata": {},
   "outputs": [],
   "source": [
    "class Node:\n",
    "    def __init__(self, val=None):\n",
    "        self.val = val\n",
    "        self.next = None\n",
    "\n",
    "    def __str__(self) -> str:\n",
    "        return str(self.val)\n",
    "\n",
    "\n",
    "class SimpleLinkedList():\n",
    "    def __init__(self, node=Node):\n",
    "        self.head = None\n",
    "\n",
    "    def __len__(self) -> int:\n",
    "        cur = self.head\n",
    "        len = 0\n",
    "        while cur:\n",
    "            len += 1\n",
    "            cur = cur.next\n",
    "        return len\n",
    "        \n",
    "    def __setitem__(self, index, val):\n",
    "        if len(self) < index or index < 0:\n",
    "            raise IndexError(f\"Invalid index {index}\")\n",
    "        curr = self.head\n",
    "        for _ in range(index):\n",
    "            curr = curr.next\n",
    "        curr.val = val"
   ]
  },
  {
   "cell_type": "markdown",
   "id": "207db907-e5d5-40f0-bbac-a21c4572c28f",
   "metadata": {},
   "source": [
    "<h3>Вставка в начало односвязного списка</h3>"
   ]
  },
  {
   "cell_type": "code",
   "execution_count": null,
   "id": "8a11608a-9437-4103-a283-5231ee54e150",
   "metadata": {},
   "outputs": [],
   "source": [
    "def push_front(self, val):\n",
    "    new_node = Node(val)\n",
    "    if self.head is None:\n",
    "        self.head = new_node\n",
    "        return\n",
    "    new_node.next = self.head"
   ]
  },
  {
   "cell_type": "markdown",
   "id": "93cdabe5-3ac1-4b07-b093-0f51862c79df",
   "metadata": {},
   "source": [
    "<h3>Вставка по индексу</h3>"
   ]
  },
  {
   "cell_type": "code",
   "execution_count": null,
   "id": "7b8b6e64-3b30-4609-85d9-723ba87b80b7",
   "metadata": {},
   "outputs": [],
   "source": [
    "def insert(self, val, index):\n",
    "    if len(self) < index or index < 0:\n",
    "        raise IndexError(f\"Invalid index {index}\")\n",
    "    if index == 0:\n",
    "        self.push_back(val)\n",
    "        return\n",
    "    curr = self.head\n",
    "    new_node = Node(val)\n",
    "    for _ in range(index - 1):\n",
    "        curr = curr.next\n",
    "    next_node = curr.next\n",
    "    curr.next = new_node  \n",
    "    new_node.next = next_node"
   ]
  },
  {
   "cell_type": "markdown",
   "id": "b8e91803-1c44-4fe9-90d2-601ef6aca1e5",
   "metadata": {},
   "source": [
    "<h3>Вставка в конец</h3>"
   ]
  },
  {
   "cell_type": "code",
   "execution_count": null,
   "id": "fea16642-9fab-444f-99f0-9e2b4938c68c",
   "metadata": {},
   "outputs": [],
   "source": [
    "def push_back(self, val):\n",
    "     new_node = Node(val)\n",
    "    if self.head is None:\n",
    "        self.head = new_node\n",
    "        return\n",
    "    curr_node: Node = self.head\n",
    "    while curr_node.next:\n",
    "        curr_node = curr_node.next\n",
    "    curr_node.next = new_node"
   ]
  },
  {
   "cell_type": "markdown",
   "id": "0800853f-b429-4571-9a85-8e518f553eb0",
   "metadata": {},
   "source": [
    "<h3>Вывод в поток</h3>"
   ]
  },
  {
   "cell_type": "code",
   "execution_count": null,
   "id": "d027bf53-7720-4664-90ea-26c638671365",
   "metadata": {},
   "outputs": [],
   "source": [
    "def __str__(self) -> str:\n",
    "    res = \"\"\n",
    "    cur = self.head\n",
    "    while cur.next:\n",
    "        res += str(cur.val) + \" -> \"\n",
    "        cur = cur.next\n",
    "    res += str(cur.val)\n",
    "    return res"
   ]
  },
  {
   "cell_type": "markdown",
   "id": "2de8df90-3232-4182-b202-56dfeb78bb75",
   "metadata": {},
   "source": [
    "<h3>Взятие элемента односвязного списка по индексу</h3>"
   ]
  },
  {
   "cell_type": "code",
   "execution_count": null,
   "id": "c7c5d344-90e2-4828-874b-75b1a1da2c8b",
   "metadata": {},
   "outputs": [],
   "source": [
    "def __getitem__(self, index: int):\n",
    "    if len(self) < index or index < 0:\n",
    "        raise IndexError(f\"Invalid index {index}\")\n",
    "    curr = self.head\n",
    "    for _ in range(index):\n",
    "        curr = curr.next\n",
    "    return curr.val"
   ]
  },
  {
   "cell_type": "markdown",
   "id": "95fe2c43-c0ef-47d8-a253-1d4e54148823",
   "metadata": {},
   "source": [
    "<h3>Удаление первого элемента односвязного списка</h3>"
   ]
  },
  {
   "cell_type": "code",
   "execution_count": null,
   "id": "6eb1ea5f-8fff-491c-bd87-0acb5afeac0e",
   "metadata": {},
   "outputs": [],
   "source": [
    "def pop_front(self):\n",
    "    if self.head is None:\n",
    "        raise IndexError(\"Cannot pop_front empty list!\")\n",
    "    self.head = self.head.next"
   ]
  },
  {
   "cell_type": "markdown",
   "id": "10a0c4cd-a086-486f-9eb2-3f2644feb65c",
   "metadata": {},
   "source": [
    "<h3>Удаление последнего элемента односвязного списка</h3>\n"
   ]
  },
  {
   "cell_type": "code",
   "execution_count": null,
   "id": "87213d59-2f63-44c5-a2ea-69a3a68c80c1",
   "metadata": {},
   "outputs": [],
   "source": [
    "def pop_back(self):\n",
    "    if self.head is None:\n",
    "        raise IndexError(\"Cannot pop_back empty list!\")\n",
    "    del self[len(lst) - 1]"
   ]
  },
  {
   "cell_type": "markdown",
   "id": "b48bc211-97c7-4983-a53d-098394dfecc3",
   "metadata": {},
   "source": [
    "<h3>Удаление элемента односвязного списка по индексу</h3>"
   ]
  },
  {
   "cell_type": "code",
   "execution_count": null,
   "id": "55f563ce-5c33-4b14-bcca-c2fb41b522b3",
   "metadata": {},
   "outputs": [],
   "source": [
    "def __delitem__(self, index):\n",
    "    if len(self) < index or index < 0:\n",
    "        raise IndexError(f\"Invalid index {index}\")\n",
    "    if index == 0:\n",
    "        self.pop_front()\n",
    "    curr = self.head\n",
    "    for _ in range(index - 1):\n",
    "        curr = curr.next\n",
    "    curr.next = curr.next.next"
   ]
  },
  {
   "cell_type": "markdown",
   "id": "2c2d7686-9c0c-4fa5-849e-e5f232732828",
   "metadata": {},
   "source": [
    "<h3>Реверс списка</h3>"
   ]
  },
  {
   "cell_type": "code",
   "execution_count": null,
   "id": "3e24e2d6-dd03-4fd6-8c68-845f4d933a83",
   "metadata": {},
   "outputs": [],
   "source": [
    "def __reversed__(self):\n",
    "    curr = self.head\n",
    "    prev = None\n",
    "    while curr:\n",
    "        next_node = curr.next\n",
    "        curr.next = prev\n",
    "        prev = curr\n",
    "        curr = next_node\n",
    "    self.head = prev"
   ]
  },
  {
   "cell_type": "markdown",
   "id": "596fab72-c948-44dd-8c23-5d705cdf2470",
   "metadata": {},
   "source": [
    "<h3>Приложение для работы со списком</h3>"
   ]
  },
  {
   "cell_type": "code",
   "execution_count": null,
   "id": "a6b8a862-ecd2-4070-b3f8-b2bf37ca4968",
   "metadata": {},
   "outputs": [],
   "source": [
    "lst = SimpleLinkedList()\n",
    "print(\"1 - Вставка в начало\",\n",
    "      \"2 - Вставка в конец\",\n",
    "      \"3 - Вставка по индексу\",\n",
    "      \"4 - Удаление по индексу\",\n",
    "      \"5 - Удаление певрого элемета\",\n",
    "      \"6 - удаление последнего элемента\",\n",
    "      \"7 - Реверс списка\",\n",
    "      \"8 - Взятие по индексу\",\n",
    "      \"9 - Сортировка списка\",\n",
    "      \"10 - Обмен максимального и минимального значения в списке\",\n",
    "      \"11 - Вывод списка в поток\",\n",
    "      \"12 - Очистка списка\",\n",
    "      sep='\\n')\n",
    "while True:\n",
    "    command = int(input(\"Введите команду: \"))\n",
    "    match command:\n",
    "        case 1:\n",
    "            val = int(input(\"Введите значение: \"))\n",
    "            lst.push_front(val)\n",
    "        case 2:\n",
    "            val = int(input(\"Введите значение: \"))\n",
    "            lst.push_back(val)\n",
    "        case 3:\n",
    "            inx = int(input(\"Введите индекс: \"))\n",
    "            val = int(input(\"Введите значение: \"))\n",
    "            lst.insert(val, inx)\n",
    "        case 4:\n",
    "            inx = int(input(\"Введите индекс: \"))\n",
    "            del lst[inx]\n",
    "        case 5:\n",
    "            lst.pop_front()\n",
    "        case 6:\n",
    "            lst.pop_back()\n",
    "        case 7:\n",
    "            reversed(lst)\n",
    "        case 8:\n",
    "            inx = int(input(\"Введите индекс: \"))\n",
    "            item = lst[inx]\n",
    "            print(f'Элемемет под номером {inx} = {item}')\n",
    "        case 9:\n",
    "            task1 = lst.task1()\n",
    "            print(f\"Отсортированный список {task1}\")\n",
    "        case 10:\n",
    "            lst.task2()\n",
    "        case 11:\n",
    "            print(lst)\n",
    "            sleep(2)\n",
    "        case 12:\n",
    "            lst.clear()\n",
    "        case _:\n",
    "            print(\"Несуществующая команда!\")"
   ]
  },
  {
   "cell_type": "markdown",
   "id": "c2040bfb-aaff-4ee4-a438-fc1041876f6e",
   "metadata": {},
   "source": [
    "---"
   ]
  },
  {
   "cell_type": "markdown",
   "id": "88844270-307c-4850-b218-fdd954d88993",
   "metadata": {},
   "source": [
    "<h2>Индивидуальное задание</h2>"
   ]
  },
  {
   "cell_type": "markdown",
   "id": "61ac4f4c-06b4-447a-b330-80d4e3fcc72b",
   "metadata": {},
   "source": [
    "---"
   ]
  },
  {
   "cell_type": "markdown",
   "id": "4e03165c-b4f0-4814-8d52-0c2b14ddee71",
   "metadata": {},
   "source": [
    "<h3>Пусть имеется список L1 действительных чисел. Записать в список L2 все элементы списка L1 в порядке возрастания их значений</h3>"
   ]
  },
  {
   "cell_type": "code",
   "execution_count": null,
   "id": "f38418f4-d386-4753-bb56-5be940382f8e",
   "metadata": {},
   "outputs": [],
   "source": [
    "def task1(self):\n",
    "        res = SimpleLinkedList()\n",
    "        vals = []\n",
    "        for i in range(len(self)):\n",
    "            vals.append(self[i])\n",
    "        vals.sort()\n",
    "        for val in vals:\n",
    "            res.push_back(val)\n",
    "        return res"
   ]
  },
  {
   "cell_type": "markdown",
   "id": "5f08d1f5-4e1f-4667-bbb8-3126af3a6cfa",
   "metadata": {},
   "source": [
    "<h2>Пусть имеется список целых чисел L. Обменяйте местами максимальный и минимальный элемент списка</h2>"
   ]
  },
  {
   "cell_type": "code",
   "execution_count": null,
   "id": "f2134f88-632a-4d77-93ee-46a4693cbd7f",
   "metadata": {},
   "outputs": [],
   "source": [
    "def task2(self):\n",
    "        min = self.head.val\n",
    "        max = self.head.val\n",
    "        min_inx = 0\n",
    "        max_inx = 0\n",
    "        for i in range(len(self)):\n",
    "            if min > self[i]:\n",
    "                min = self[i]\n",
    "                min_inx = i\n",
    "            if max < self[i]:\n",
    "                max = self[i]\n",
    "                max_inx = i\n",
    "        self[max_inx], self[min_inx] = min, max"
   ]
  },
  {
   "cell_type": "markdown",
   "id": "efc6c8d1-7a99-4742-a809-9f667c651f91",
   "metadata": {},
   "source": [
    "---"
   ]
  },
  {
   "cell_type": "markdown",
   "id": "95e0799c-e9aa-475e-bbcf-046b2ff123c4",
   "metadata": {},
   "source": [
    "<h2>Ответы на контрольные вопросы</h2>"
   ]
  },
  {
   "cell_type": "markdown",
   "id": "7fcac8f6-3bd0-4a22-9a5d-2fa49c1e8665",
   "metadata": {},
   "source": [
    "1. **Динамическая структура данных** - это структура данных, которая может изменять свой размер во время выполнения программы. Она позволяет добавлять, удалять или изменять элементы и адаптироваться к изменяющимся потребностям программы.\n",
    "\n",
    "2. **Список** - это одна из наиболее распространенных типов динамических структур данных. Он представляет собой упорядоченную коллекцию элементов. Каждый элемент списка содержит значение и ссылку (указатель) на следующий элемент в списке, что позволяет последовательно обходить его.\n",
    "\n",
    "3. Виды списков:\n",
    "    - **Односвязный список** `(Singly Linked List)`: каждый элемент содержит ссылку только на следующий элемент.\n",
    "    - **Двусвязный список** `(Doubly Linked List)`: каждый элемент содержит ссылку как на следующий, так и на предыдущий элемент.\n",
    "    - **Кольцевой список** `(Circular Linked List)`: последний элемент списка ссылается на первый, создавая циклическую структуру.\n",
    "\n",
    "4. Основные операции над списком:\n",
    "    - Вставка элемента: добавление нового элемента в список на определенное место.\n",
    "    - Удаление элемента: удаление существующего элемента из списка.\n",
    "    - Получение элемента: доступ к элементу списка по его индексу или значению.\n",
    "    - Обход списка: последовательный доступ ко всем элементам списка.\n",
    "\n",
    "5. Особенности операций вставки:\n",
    "    - Вставка первого элемента: требуется обновление указателя на начало списка (указатель head).\n",
    "    - Вставка не первого элемента: требуется обновление ссылок соседних элементов, чтобы указывать на новый элемент. Операция по времени занимает $O(n)$, где $n$ - количество элементов в списке\n",
    "\n",
    "6. Особенности операций удаления:\n",
    "    - Удаление первого элемента: требуется обновление указателя на начало списка (указатель head) и освобождение памяти, занимаемой удаляемым элементом.\n",
    "    - Удаление не первого элемента: требуется обновление ссылок соседних элементов, чтобы они указывали друг на друга и освобождение памяти, занимаемой удаляемым элементом. Операция по времени занимает $O(n)$, где $n$ - количество элементов в списке"
   ]
  }
 ],
 "metadata": {
  "kernelspec": {
   "display_name": "Python 3 (ipykernel)",
   "language": "python",
   "name": "python3"
  },
  "language_info": {
   "codemirror_mode": {
    "name": "ipython",
    "version": 3
   },
   "file_extension": ".py",
   "mimetype": "text/x-python",
   "name": "python",
   "nbconvert_exporter": "python",
   "pygments_lexer": "ipython3",
   "version": "3.11.2"
  }
 },
 "nbformat": 4,
 "nbformat_minor": 5
}
